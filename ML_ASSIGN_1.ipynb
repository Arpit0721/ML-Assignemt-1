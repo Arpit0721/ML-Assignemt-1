{
  "nbformat": 4,
  "nbformat_minor": 0,
  "metadata": {
    "colab": {
      "provenance": []
    },
    "kernelspec": {
      "name": "python3",
      "display_name": "Python 3"
    },
    "language_info": {
      "name": "python"
    }
  },
  "cells": [
    {
      "cell_type": "markdown",
      "source": [
        "Here we imported the necessary libraries"
      ],
      "metadata": {
        "id": "v4iWdTRMgAiq"
      }
    },
    {
      "cell_type": "code",
      "source": [
        "import pandas as pd"
      ],
      "metadata": {
        "id": "Fo3SDMelgDAp"
      },
      "execution_count": null,
      "outputs": []
    },
    {
      "cell_type": "code",
      "source": [
        "df = pd.read_csv('breast-cancer.csv')\n",
        "df.head()"
      ],
      "metadata": {
        "colab": {
          "base_uri": "https://localhost:8080/",
          "height": 273
        },
        "id": "nSwyAoaxg1zo",
        "outputId": "11f66d96-6be8-4b2e-b14b-8291fb62b408"
      },
      "execution_count": null,
      "outputs": [
        {
          "output_type": "execute_result",
          "data": {
            "text/plain": [
              "         id diagnosis  radius_mean  texture_mean  perimeter_mean  area_mean  \\\n",
              "0    842302         M        17.99         10.38          122.80     1001.0   \n",
              "1    842517         M        20.57         17.77          132.90     1326.0   \n",
              "2  84300903         M        19.69         21.25          130.00     1203.0   \n",
              "3  84348301         M        11.42         20.38           77.58      386.1   \n",
              "4  84358402         M        20.29         14.34          135.10     1297.0   \n",
              "\n",
              "   smoothness_mean  compactness_mean  concavity_mean  concave points_mean  \\\n",
              "0          0.11840           0.27760          0.3001              0.14710   \n",
              "1          0.08474           0.07864          0.0869              0.07017   \n",
              "2          0.10960           0.15990          0.1974              0.12790   \n",
              "3          0.14250           0.28390          0.2414              0.10520   \n",
              "4          0.10030           0.13280          0.1980              0.10430   \n",
              "\n",
              "   ...  radius_worst  texture_worst  perimeter_worst  area_worst  \\\n",
              "0  ...         25.38          17.33           184.60      2019.0   \n",
              "1  ...         24.99          23.41           158.80      1956.0   \n",
              "2  ...         23.57          25.53           152.50      1709.0   \n",
              "3  ...         14.91          26.50            98.87       567.7   \n",
              "4  ...         22.54          16.67           152.20      1575.0   \n",
              "\n",
              "   smoothness_worst  compactness_worst  concavity_worst  concave points_worst  \\\n",
              "0            0.1622             0.6656           0.7119                0.2654   \n",
              "1            0.1238             0.1866           0.2416                0.1860   \n",
              "2            0.1444             0.4245           0.4504                0.2430   \n",
              "3            0.2098             0.8663           0.6869                0.2575   \n",
              "4            0.1374             0.2050           0.4000                0.1625   \n",
              "\n",
              "   symmetry_worst  fractal_dimension_worst  \n",
              "0          0.4601                  0.11890  \n",
              "1          0.2750                  0.08902  \n",
              "2          0.3613                  0.08758  \n",
              "3          0.6638                  0.17300  \n",
              "4          0.2364                  0.07678  \n",
              "\n",
              "[5 rows x 32 columns]"
            ],
            "text/html": [
              "\n",
              "  <div id=\"df-27230a35-b3c8-4d21-a790-b52bb31f11d3\" class=\"colab-df-container\">\n",
              "    <div>\n",
              "<style scoped>\n",
              "    .dataframe tbody tr th:only-of-type {\n",
              "        vertical-align: middle;\n",
              "    }\n",
              "\n",
              "    .dataframe tbody tr th {\n",
              "        vertical-align: top;\n",
              "    }\n",
              "\n",
              "    .dataframe thead th {\n",
              "        text-align: right;\n",
              "    }\n",
              "</style>\n",
              "<table border=\"1\" class=\"dataframe\">\n",
              "  <thead>\n",
              "    <tr style=\"text-align: right;\">\n",
              "      <th></th>\n",
              "      <th>id</th>\n",
              "      <th>diagnosis</th>\n",
              "      <th>radius_mean</th>\n",
              "      <th>texture_mean</th>\n",
              "      <th>perimeter_mean</th>\n",
              "      <th>area_mean</th>\n",
              "      <th>smoothness_mean</th>\n",
              "      <th>compactness_mean</th>\n",
              "      <th>concavity_mean</th>\n",
              "      <th>concave points_mean</th>\n",
              "      <th>...</th>\n",
              "      <th>radius_worst</th>\n",
              "      <th>texture_worst</th>\n",
              "      <th>perimeter_worst</th>\n",
              "      <th>area_worst</th>\n",
              "      <th>smoothness_worst</th>\n",
              "      <th>compactness_worst</th>\n",
              "      <th>concavity_worst</th>\n",
              "      <th>concave points_worst</th>\n",
              "      <th>symmetry_worst</th>\n",
              "      <th>fractal_dimension_worst</th>\n",
              "    </tr>\n",
              "  </thead>\n",
              "  <tbody>\n",
              "    <tr>\n",
              "      <th>0</th>\n",
              "      <td>842302</td>\n",
              "      <td>M</td>\n",
              "      <td>17.99</td>\n",
              "      <td>10.38</td>\n",
              "      <td>122.80</td>\n",
              "      <td>1001.0</td>\n",
              "      <td>0.11840</td>\n",
              "      <td>0.27760</td>\n",
              "      <td>0.3001</td>\n",
              "      <td>0.14710</td>\n",
              "      <td>...</td>\n",
              "      <td>25.38</td>\n",
              "      <td>17.33</td>\n",
              "      <td>184.60</td>\n",
              "      <td>2019.0</td>\n",
              "      <td>0.1622</td>\n",
              "      <td>0.6656</td>\n",
              "      <td>0.7119</td>\n",
              "      <td>0.2654</td>\n",
              "      <td>0.4601</td>\n",
              "      <td>0.11890</td>\n",
              "    </tr>\n",
              "    <tr>\n",
              "      <th>1</th>\n",
              "      <td>842517</td>\n",
              "      <td>M</td>\n",
              "      <td>20.57</td>\n",
              "      <td>17.77</td>\n",
              "      <td>132.90</td>\n",
              "      <td>1326.0</td>\n",
              "      <td>0.08474</td>\n",
              "      <td>0.07864</td>\n",
              "      <td>0.0869</td>\n",
              "      <td>0.07017</td>\n",
              "      <td>...</td>\n",
              "      <td>24.99</td>\n",
              "      <td>23.41</td>\n",
              "      <td>158.80</td>\n",
              "      <td>1956.0</td>\n",
              "      <td>0.1238</td>\n",
              "      <td>0.1866</td>\n",
              "      <td>0.2416</td>\n",
              "      <td>0.1860</td>\n",
              "      <td>0.2750</td>\n",
              "      <td>0.08902</td>\n",
              "    </tr>\n",
              "    <tr>\n",
              "      <th>2</th>\n",
              "      <td>84300903</td>\n",
              "      <td>M</td>\n",
              "      <td>19.69</td>\n",
              "      <td>21.25</td>\n",
              "      <td>130.00</td>\n",
              "      <td>1203.0</td>\n",
              "      <td>0.10960</td>\n",
              "      <td>0.15990</td>\n",
              "      <td>0.1974</td>\n",
              "      <td>0.12790</td>\n",
              "      <td>...</td>\n",
              "      <td>23.57</td>\n",
              "      <td>25.53</td>\n",
              "      <td>152.50</td>\n",
              "      <td>1709.0</td>\n",
              "      <td>0.1444</td>\n",
              "      <td>0.4245</td>\n",
              "      <td>0.4504</td>\n",
              "      <td>0.2430</td>\n",
              "      <td>0.3613</td>\n",
              "      <td>0.08758</td>\n",
              "    </tr>\n",
              "    <tr>\n",
              "      <th>3</th>\n",
              "      <td>84348301</td>\n",
              "      <td>M</td>\n",
              "      <td>11.42</td>\n",
              "      <td>20.38</td>\n",
              "      <td>77.58</td>\n",
              "      <td>386.1</td>\n",
              "      <td>0.14250</td>\n",
              "      <td>0.28390</td>\n",
              "      <td>0.2414</td>\n",
              "      <td>0.10520</td>\n",
              "      <td>...</td>\n",
              "      <td>14.91</td>\n",
              "      <td>26.50</td>\n",
              "      <td>98.87</td>\n",
              "      <td>567.7</td>\n",
              "      <td>0.2098</td>\n",
              "      <td>0.8663</td>\n",
              "      <td>0.6869</td>\n",
              "      <td>0.2575</td>\n",
              "      <td>0.6638</td>\n",
              "      <td>0.17300</td>\n",
              "    </tr>\n",
              "    <tr>\n",
              "      <th>4</th>\n",
              "      <td>84358402</td>\n",
              "      <td>M</td>\n",
              "      <td>20.29</td>\n",
              "      <td>14.34</td>\n",
              "      <td>135.10</td>\n",
              "      <td>1297.0</td>\n",
              "      <td>0.10030</td>\n",
              "      <td>0.13280</td>\n",
              "      <td>0.1980</td>\n",
              "      <td>0.10430</td>\n",
              "      <td>...</td>\n",
              "      <td>22.54</td>\n",
              "      <td>16.67</td>\n",
              "      <td>152.20</td>\n",
              "      <td>1575.0</td>\n",
              "      <td>0.1374</td>\n",
              "      <td>0.2050</td>\n",
              "      <td>0.4000</td>\n",
              "      <td>0.1625</td>\n",
              "      <td>0.2364</td>\n",
              "      <td>0.07678</td>\n",
              "    </tr>\n",
              "  </tbody>\n",
              "</table>\n",
              "<p>5 rows × 32 columns</p>\n",
              "</div>\n",
              "    <div class=\"colab-df-buttons\">\n",
              "\n",
              "  <div class=\"colab-df-container\">\n",
              "    <button class=\"colab-df-convert\" onclick=\"convertToInteractive('df-27230a35-b3c8-4d21-a790-b52bb31f11d3')\"\n",
              "            title=\"Convert this dataframe to an interactive table.\"\n",
              "            style=\"display:none;\">\n",
              "\n",
              "  <svg xmlns=\"http://www.w3.org/2000/svg\" height=\"24px\" viewBox=\"0 -960 960 960\">\n",
              "    <path d=\"M120-120v-720h720v720H120Zm60-500h600v-160H180v160Zm220 220h160v-160H400v160Zm0 220h160v-160H400v160ZM180-400h160v-160H180v160Zm440 0h160v-160H620v160ZM180-180h160v-160H180v160Zm440 0h160v-160H620v160Z\"/>\n",
              "  </svg>\n",
              "    </button>\n",
              "\n",
              "  <style>\n",
              "    .colab-df-container {\n",
              "      display:flex;\n",
              "      gap: 12px;\n",
              "    }\n",
              "\n",
              "    .colab-df-convert {\n",
              "      background-color: #E8F0FE;\n",
              "      border: none;\n",
              "      border-radius: 50%;\n",
              "      cursor: pointer;\n",
              "      display: none;\n",
              "      fill: #1967D2;\n",
              "      height: 32px;\n",
              "      padding: 0 0 0 0;\n",
              "      width: 32px;\n",
              "    }\n",
              "\n",
              "    .colab-df-convert:hover {\n",
              "      background-color: #E2EBFA;\n",
              "      box-shadow: 0px 1px 2px rgba(60, 64, 67, 0.3), 0px 1px 3px 1px rgba(60, 64, 67, 0.15);\n",
              "      fill: #174EA6;\n",
              "    }\n",
              "\n",
              "    .colab-df-buttons div {\n",
              "      margin-bottom: 4px;\n",
              "    }\n",
              "\n",
              "    [theme=dark] .colab-df-convert {\n",
              "      background-color: #3B4455;\n",
              "      fill: #D2E3FC;\n",
              "    }\n",
              "\n",
              "    [theme=dark] .colab-df-convert:hover {\n",
              "      background-color: #434B5C;\n",
              "      box-shadow: 0px 1px 3px 1px rgba(0, 0, 0, 0.15);\n",
              "      filter: drop-shadow(0px 1px 2px rgba(0, 0, 0, 0.3));\n",
              "      fill: #FFFFFF;\n",
              "    }\n",
              "  </style>\n",
              "\n",
              "    <script>\n",
              "      const buttonEl =\n",
              "        document.querySelector('#df-27230a35-b3c8-4d21-a790-b52bb31f11d3 button.colab-df-convert');\n",
              "      buttonEl.style.display =\n",
              "        google.colab.kernel.accessAllowed ? 'block' : 'none';\n",
              "\n",
              "      async function convertToInteractive(key) {\n",
              "        const element = document.querySelector('#df-27230a35-b3c8-4d21-a790-b52bb31f11d3');\n",
              "        const dataTable =\n",
              "          await google.colab.kernel.invokeFunction('convertToInteractive',\n",
              "                                                    [key], {});\n",
              "        if (!dataTable) return;\n",
              "\n",
              "        const docLinkHtml = 'Like what you see? Visit the ' +\n",
              "          '<a target=\"_blank\" href=https://colab.research.google.com/notebooks/data_table.ipynb>data table notebook</a>'\n",
              "          + ' to learn more about interactive tables.';\n",
              "        element.innerHTML = '';\n",
              "        dataTable['output_type'] = 'display_data';\n",
              "        await google.colab.output.renderOutput(dataTable, element);\n",
              "        const docLink = document.createElement('div');\n",
              "        docLink.innerHTML = docLinkHtml;\n",
              "        element.appendChild(docLink);\n",
              "      }\n",
              "    </script>\n",
              "  </div>\n",
              "\n",
              "\n",
              "<div id=\"df-273f222e-beaa-4a8a-b236-95a26cdfd843\">\n",
              "  <button class=\"colab-df-quickchart\" onclick=\"quickchart('df-273f222e-beaa-4a8a-b236-95a26cdfd843')\"\n",
              "            title=\"Suggest charts\"\n",
              "            style=\"display:none;\">\n",
              "\n",
              "<svg xmlns=\"http://www.w3.org/2000/svg\" height=\"24px\"viewBox=\"0 0 24 24\"\n",
              "     width=\"24px\">\n",
              "    <g>\n",
              "        <path d=\"M19 3H5c-1.1 0-2 .9-2 2v14c0 1.1.9 2 2 2h14c1.1 0 2-.9 2-2V5c0-1.1-.9-2-2-2zM9 17H7v-7h2v7zm4 0h-2V7h2v10zm4 0h-2v-4h2v4z\"/>\n",
              "    </g>\n",
              "</svg>\n",
              "  </button>\n",
              "\n",
              "<style>\n",
              "  .colab-df-quickchart {\n",
              "      --bg-color: #E8F0FE;\n",
              "      --fill-color: #1967D2;\n",
              "      --hover-bg-color: #E2EBFA;\n",
              "      --hover-fill-color: #174EA6;\n",
              "      --disabled-fill-color: #AAA;\n",
              "      --disabled-bg-color: #DDD;\n",
              "  }\n",
              "\n",
              "  [theme=dark] .colab-df-quickchart {\n",
              "      --bg-color: #3B4455;\n",
              "      --fill-color: #D2E3FC;\n",
              "      --hover-bg-color: #434B5C;\n",
              "      --hover-fill-color: #FFFFFF;\n",
              "      --disabled-bg-color: #3B4455;\n",
              "      --disabled-fill-color: #666;\n",
              "  }\n",
              "\n",
              "  .colab-df-quickchart {\n",
              "    background-color: var(--bg-color);\n",
              "    border: none;\n",
              "    border-radius: 50%;\n",
              "    cursor: pointer;\n",
              "    display: none;\n",
              "    fill: var(--fill-color);\n",
              "    height: 32px;\n",
              "    padding: 0;\n",
              "    width: 32px;\n",
              "  }\n",
              "\n",
              "  .colab-df-quickchart:hover {\n",
              "    background-color: var(--hover-bg-color);\n",
              "    box-shadow: 0 1px 2px rgba(60, 64, 67, 0.3), 0 1px 3px 1px rgba(60, 64, 67, 0.15);\n",
              "    fill: var(--button-hover-fill-color);\n",
              "  }\n",
              "\n",
              "  .colab-df-quickchart-complete:disabled,\n",
              "  .colab-df-quickchart-complete:disabled:hover {\n",
              "    background-color: var(--disabled-bg-color);\n",
              "    fill: var(--disabled-fill-color);\n",
              "    box-shadow: none;\n",
              "  }\n",
              "\n",
              "  .colab-df-spinner {\n",
              "    border: 2px solid var(--fill-color);\n",
              "    border-color: transparent;\n",
              "    border-bottom-color: var(--fill-color);\n",
              "    animation:\n",
              "      spin 1s steps(1) infinite;\n",
              "  }\n",
              "\n",
              "  @keyframes spin {\n",
              "    0% {\n",
              "      border-color: transparent;\n",
              "      border-bottom-color: var(--fill-color);\n",
              "      border-left-color: var(--fill-color);\n",
              "    }\n",
              "    20% {\n",
              "      border-color: transparent;\n",
              "      border-left-color: var(--fill-color);\n",
              "      border-top-color: var(--fill-color);\n",
              "    }\n",
              "    30% {\n",
              "      border-color: transparent;\n",
              "      border-left-color: var(--fill-color);\n",
              "      border-top-color: var(--fill-color);\n",
              "      border-right-color: var(--fill-color);\n",
              "    }\n",
              "    40% {\n",
              "      border-color: transparent;\n",
              "      border-right-color: var(--fill-color);\n",
              "      border-top-color: var(--fill-color);\n",
              "    }\n",
              "    60% {\n",
              "      border-color: transparent;\n",
              "      border-right-color: var(--fill-color);\n",
              "    }\n",
              "    80% {\n",
              "      border-color: transparent;\n",
              "      border-right-color: var(--fill-color);\n",
              "      border-bottom-color: var(--fill-color);\n",
              "    }\n",
              "    90% {\n",
              "      border-color: transparent;\n",
              "      border-bottom-color: var(--fill-color);\n",
              "    }\n",
              "  }\n",
              "</style>\n",
              "\n",
              "  <script>\n",
              "    async function quickchart(key) {\n",
              "      const quickchartButtonEl =\n",
              "        document.querySelector('#' + key + ' button');\n",
              "      quickchartButtonEl.disabled = true;  // To prevent multiple clicks.\n",
              "      quickchartButtonEl.classList.add('colab-df-spinner');\n",
              "      try {\n",
              "        const charts = await google.colab.kernel.invokeFunction(\n",
              "            'suggestCharts', [key], {});\n",
              "      } catch (error) {\n",
              "        console.error('Error during call to suggestCharts:', error);\n",
              "      }\n",
              "      quickchartButtonEl.classList.remove('colab-df-spinner');\n",
              "      quickchartButtonEl.classList.add('colab-df-quickchart-complete');\n",
              "    }\n",
              "    (() => {\n",
              "      let quickchartButtonEl =\n",
              "        document.querySelector('#df-273f222e-beaa-4a8a-b236-95a26cdfd843 button');\n",
              "      quickchartButtonEl.style.display =\n",
              "        google.colab.kernel.accessAllowed ? 'block' : 'none';\n",
              "    })();\n",
              "  </script>\n",
              "</div>\n",
              "\n",
              "    </div>\n",
              "  </div>\n"
            ],
            "application/vnd.google.colaboratory.intrinsic+json": {
              "type": "dataframe",
              "variable_name": "df"
            }
          },
          "metadata": {},
          "execution_count": 3
        }
      ]
    },
    {
      "cell_type": "markdown",
      "source": [
        "Here we handled the missing values"
      ],
      "metadata": {
        "id": "kKSPIBsBg5J1"
      }
    },
    {
      "cell_type": "code",
      "source": [
        "df.isna().sum()"
      ],
      "metadata": {
        "colab": {
          "base_uri": "https://localhost:8080/",
          "height": 1000
        },
        "id": "xaP9JIp-g9C_",
        "outputId": "eb29e636-8e2a-4711-dd22-45e21d6b8a46"
      },
      "execution_count": null,
      "outputs": [
        {
          "output_type": "execute_result",
          "data": {
            "text/plain": [
              "id                         0\n",
              "diagnosis                  0\n",
              "radius_mean                0\n",
              "texture_mean               0\n",
              "perimeter_mean             0\n",
              "area_mean                  0\n",
              "smoothness_mean            0\n",
              "compactness_mean           0\n",
              "concavity_mean             0\n",
              "concave points_mean        0\n",
              "symmetry_mean              0\n",
              "fractal_dimension_mean     0\n",
              "radius_se                  0\n",
              "texture_se                 0\n",
              "perimeter_se               0\n",
              "area_se                    0\n",
              "smoothness_se              0\n",
              "compactness_se             0\n",
              "concavity_se               0\n",
              "concave points_se          0\n",
              "symmetry_se                0\n",
              "fractal_dimension_se       0\n",
              "radius_worst               0\n",
              "texture_worst              0\n",
              "perimeter_worst            0\n",
              "area_worst                 0\n",
              "smoothness_worst           0\n",
              "compactness_worst          0\n",
              "concavity_worst            0\n",
              "concave points_worst       0\n",
              "symmetry_worst             0\n",
              "fractal_dimension_worst    0\n",
              "dtype: int64"
            ],
            "text/html": [
              "<div>\n",
              "<style scoped>\n",
              "    .dataframe tbody tr th:only-of-type {\n",
              "        vertical-align: middle;\n",
              "    }\n",
              "\n",
              "    .dataframe tbody tr th {\n",
              "        vertical-align: top;\n",
              "    }\n",
              "\n",
              "    .dataframe thead th {\n",
              "        text-align: right;\n",
              "    }\n",
              "</style>\n",
              "<table border=\"1\" class=\"dataframe\">\n",
              "  <thead>\n",
              "    <tr style=\"text-align: right;\">\n",
              "      <th></th>\n",
              "      <th>0</th>\n",
              "    </tr>\n",
              "  </thead>\n",
              "  <tbody>\n",
              "    <tr>\n",
              "      <th>id</th>\n",
              "      <td>0</td>\n",
              "    </tr>\n",
              "    <tr>\n",
              "      <th>diagnosis</th>\n",
              "      <td>0</td>\n",
              "    </tr>\n",
              "    <tr>\n",
              "      <th>radius_mean</th>\n",
              "      <td>0</td>\n",
              "    </tr>\n",
              "    <tr>\n",
              "      <th>texture_mean</th>\n",
              "      <td>0</td>\n",
              "    </tr>\n",
              "    <tr>\n",
              "      <th>perimeter_mean</th>\n",
              "      <td>0</td>\n",
              "    </tr>\n",
              "    <tr>\n",
              "      <th>area_mean</th>\n",
              "      <td>0</td>\n",
              "    </tr>\n",
              "    <tr>\n",
              "      <th>smoothness_mean</th>\n",
              "      <td>0</td>\n",
              "    </tr>\n",
              "    <tr>\n",
              "      <th>compactness_mean</th>\n",
              "      <td>0</td>\n",
              "    </tr>\n",
              "    <tr>\n",
              "      <th>concavity_mean</th>\n",
              "      <td>0</td>\n",
              "    </tr>\n",
              "    <tr>\n",
              "      <th>concave points_mean</th>\n",
              "      <td>0</td>\n",
              "    </tr>\n",
              "    <tr>\n",
              "      <th>symmetry_mean</th>\n",
              "      <td>0</td>\n",
              "    </tr>\n",
              "    <tr>\n",
              "      <th>fractal_dimension_mean</th>\n",
              "      <td>0</td>\n",
              "    </tr>\n",
              "    <tr>\n",
              "      <th>radius_se</th>\n",
              "      <td>0</td>\n",
              "    </tr>\n",
              "    <tr>\n",
              "      <th>texture_se</th>\n",
              "      <td>0</td>\n",
              "    </tr>\n",
              "    <tr>\n",
              "      <th>perimeter_se</th>\n",
              "      <td>0</td>\n",
              "    </tr>\n",
              "    <tr>\n",
              "      <th>area_se</th>\n",
              "      <td>0</td>\n",
              "    </tr>\n",
              "    <tr>\n",
              "      <th>smoothness_se</th>\n",
              "      <td>0</td>\n",
              "    </tr>\n",
              "    <tr>\n",
              "      <th>compactness_se</th>\n",
              "      <td>0</td>\n",
              "    </tr>\n",
              "    <tr>\n",
              "      <th>concavity_se</th>\n",
              "      <td>0</td>\n",
              "    </tr>\n",
              "    <tr>\n",
              "      <th>concave points_se</th>\n",
              "      <td>0</td>\n",
              "    </tr>\n",
              "    <tr>\n",
              "      <th>symmetry_se</th>\n",
              "      <td>0</td>\n",
              "    </tr>\n",
              "    <tr>\n",
              "      <th>fractal_dimension_se</th>\n",
              "      <td>0</td>\n",
              "    </tr>\n",
              "    <tr>\n",
              "      <th>radius_worst</th>\n",
              "      <td>0</td>\n",
              "    </tr>\n",
              "    <tr>\n",
              "      <th>texture_worst</th>\n",
              "      <td>0</td>\n",
              "    </tr>\n",
              "    <tr>\n",
              "      <th>perimeter_worst</th>\n",
              "      <td>0</td>\n",
              "    </tr>\n",
              "    <tr>\n",
              "      <th>area_worst</th>\n",
              "      <td>0</td>\n",
              "    </tr>\n",
              "    <tr>\n",
              "      <th>smoothness_worst</th>\n",
              "      <td>0</td>\n",
              "    </tr>\n",
              "    <tr>\n",
              "      <th>compactness_worst</th>\n",
              "      <td>0</td>\n",
              "    </tr>\n",
              "    <tr>\n",
              "      <th>concavity_worst</th>\n",
              "      <td>0</td>\n",
              "    </tr>\n",
              "    <tr>\n",
              "      <th>concave points_worst</th>\n",
              "      <td>0</td>\n",
              "    </tr>\n",
              "    <tr>\n",
              "      <th>symmetry_worst</th>\n",
              "      <td>0</td>\n",
              "    </tr>\n",
              "    <tr>\n",
              "      <th>fractal_dimension_worst</th>\n",
              "      <td>0</td>\n",
              "    </tr>\n",
              "  </tbody>\n",
              "</table>\n",
              "</div><br><label><b>dtype:</b> int64</label>"
            ]
          },
          "metadata": {},
          "execution_count": 4
        }
      ]
    },
    {
      "cell_type": "code",
      "source": [
        "total_null_values = df.isnull().sum().sum()\n",
        "print(f\"Total null values in the dataset: {total_null_values}\")"
      ],
      "metadata": {
        "colab": {
          "base_uri": "https://localhost:8080/"
        },
        "id": "OWlg3_A6hFBf",
        "outputId": "0917924c-ddaa-42d4-9b5a-7630dafbbb05"
      },
      "execution_count": null,
      "outputs": [
        {
          "output_type": "stream",
          "name": "stdout",
          "text": [
            "Total null values in the dataset: 0\n"
          ]
        }
      ]
    },
    {
      "cell_type": "markdown",
      "source": [
        "Here we checked for duplicates"
      ],
      "metadata": {
        "id": "KXx6nTMAhLb3"
      }
    },
    {
      "cell_type": "code",
      "source": [
        "duplicates = df.duplicated().sum()\n",
        "print(f\"Number of duplicate rows: {duplicates}\")"
      ],
      "metadata": {
        "colab": {
          "base_uri": "https://localhost:8080/"
        },
        "id": "tFuAauRQhNQr",
        "outputId": "0a150823-3a1e-4f3f-dd3f-adde6669b6c6"
      },
      "execution_count": null,
      "outputs": [
        {
          "output_type": "stream",
          "name": "stdout",
          "text": [
            "Number of duplicate rows: 0\n"
          ]
        }
      ]
    },
    {
      "cell_type": "markdown",
      "source": [
        "here we checked whether our data is consistent or no"
      ],
      "metadata": {
        "id": "JrBAH2DWhS7u"
      }
    },
    {
      "cell_type": "code",
      "source": [
        "if df['id'].is_unique:\n",
        "    print(\"All IDs are unique.\")\n",
        "else:\n",
        "    print(\"Duplicate IDs found.\")"
      ],
      "metadata": {
        "colab": {
          "base_uri": "https://localhost:8080/"
        },
        "id": "r77Rz64rhVNN",
        "outputId": "5f5ad526-af04-40d8-ac5e-760ef67508a5"
      },
      "execution_count": null,
      "outputs": [
        {
          "output_type": "stream",
          "name": "stdout",
          "text": [
            "All IDs are unique.\n"
          ]
        }
      ]
    },
    {
      "cell_type": "code",
      "source": [
        "print(\"Unique values in 'diagnosis':\", df['diagnosis'].unique())\n"
      ],
      "metadata": {
        "colab": {
          "base_uri": "https://localhost:8080/"
        },
        "id": "611NNU8mhcZX",
        "outputId": "2a57537c-6726-484d-e3db-aea8c0654d8a"
      },
      "execution_count": null,
      "outputs": [
        {
          "output_type": "stream",
          "name": "stdout",
          "text": [
            "Unique values in 'diagnosis': ['M' 'B']\n"
          ]
        }
      ]
    },
    {
      "cell_type": "code",
      "source": [
        "numerical_cols = df.select_dtypes(include=['float64', 'int64']).columns\n",
        "invalid_values = {col: df[df[col] < 0][col].count() for col in numerical_cols}\n",
        "print(\"Columns with negative values:\", {k: v for k, v in invalid_values.items() if v > 0})"
      ],
      "metadata": {
        "colab": {
          "base_uri": "https://localhost:8080/"
        },
        "id": "ARwkeJcfhd3j",
        "outputId": "d46a6d9d-f4e2-4f29-ed31-fc44012bf8a1"
      },
      "execution_count": null,
      "outputs": [
        {
          "output_type": "stream",
          "name": "stdout",
          "text": [
            "Columns with negative values: {}\n"
          ]
        }
      ]
    },
    {
      "cell_type": "markdown",
      "source": [
        "Here we spcifically removed our outliers as they were a bad input to our process"
      ],
      "metadata": {
        "id": "8rzHlAY1hkMH"
      }
    },
    {
      "cell_type": "code",
      "source": [
        "Q1 = df[numerical_cols].quantile(0.25)\n",
        "Q3 = df[numerical_cols].quantile(0.75)\n",
        "IQR = Q3 - Q1\n",
        "\n",
        "outliers = ((df[numerical_cols] < (Q1 - 1.5 * IQR)) | (df[numerical_cols] > (Q3 + 1.5 * IQR))).sum()\n",
        "print(\"Number of outliers in each column:\")\n",
        "print(outliers)"
      ],
      "metadata": {
        "colab": {
          "base_uri": "https://localhost:8080/"
        },
        "id": "HtLUkCuRhlfl",
        "outputId": "6aebe6de-b936-4e13-a30c-3a2c9b255e8f"
      },
      "execution_count": null,
      "outputs": [
        {
          "output_type": "stream",
          "name": "stdout",
          "text": [
            "Number of outliers in each column:\n",
            "id                         81\n",
            "radius_mean                14\n",
            "texture_mean                7\n",
            "perimeter_mean             13\n",
            "area_mean                  25\n",
            "smoothness_mean             6\n",
            "compactness_mean           16\n",
            "concavity_mean             18\n",
            "concave points_mean        10\n",
            "symmetry_mean              15\n",
            "fractal_dimension_mean     15\n",
            "radius_se                  38\n",
            "texture_se                 20\n",
            "perimeter_se               38\n",
            "area_se                    65\n",
            "smoothness_se              30\n",
            "compactness_se             28\n",
            "concavity_se               22\n",
            "concave points_se          19\n",
            "symmetry_se                27\n",
            "fractal_dimension_se       28\n",
            "radius_worst               17\n",
            "texture_worst               5\n",
            "perimeter_worst            15\n",
            "area_worst                 35\n",
            "smoothness_worst            7\n",
            "compactness_worst          16\n",
            "concavity_worst            12\n",
            "concave points_worst        0\n",
            "symmetry_worst             23\n",
            "fractal_dimension_worst    24\n",
            "dtype: int64\n"
          ]
        }
      ]
    },
    {
      "cell_type": "code",
      "source": [
        "filtered_data = df[\n",
        "    ~((df[numerical_cols] < (Q1 - 1.5 * IQR)) | (df[numerical_cols] > (Q3 + 1.5 * IQR))).any(axis=1)\n",
        "]\n",
        "print(f\"Rows before removing outliers: {df.shape[0]}\")\n",
        "print(f\"Rows after removing outliers: {filtered_data.shape[0]}\")"
      ],
      "metadata": {
        "colab": {
          "base_uri": "https://localhost:8080/"
        },
        "id": "QMhIjLGbhtKl",
        "outputId": "50c41047-dcd6-498f-b6a6-723a7b16ac42"
      },
      "execution_count": null,
      "outputs": [
        {
          "output_type": "stream",
          "name": "stdout",
          "text": [
            "Rows before removing outliers: 569\n",
            "Rows after removing outliers: 346\n"
          ]
        }
      ]
    },
    {
      "cell_type": "markdown",
      "source": [
        "Transforming Data"
      ],
      "metadata": {
        "id": "F-19L9iRhxf9"
      }
    },
    {
      "cell_type": "markdown",
      "source": [
        "we check the skewness of the data so as to understand how data is distributed around the mean"
      ],
      "metadata": {
        "id": "8BzpUAHDh2aH"
      }
    },
    {
      "cell_type": "code",
      "source": [
        "skewness = df[numerical_cols].skew()\n",
        "print(\"Skewness of numerical features:\")\n",
        "print(skewness)"
      ],
      "metadata": {
        "colab": {
          "base_uri": "https://localhost:8080/"
        },
        "id": "1NsmnHBfh6U0",
        "outputId": "93fbcc75-6f07-4e31-d63f-babf4af2dfbf"
      },
      "execution_count": null,
      "outputs": [
        {
          "output_type": "stream",
          "name": "stdout",
          "text": [
            "Skewness of numerical features:\n",
            "id                         6.473752\n",
            "radius_mean                0.942380\n",
            "texture_mean               0.650450\n",
            "perimeter_mean             0.990650\n",
            "area_mean                  1.645732\n",
            "smoothness_mean            0.456324\n",
            "compactness_mean           1.190123\n",
            "concavity_mean             1.401180\n",
            "concave points_mean        1.171180\n",
            "symmetry_mean              0.725609\n",
            "fractal_dimension_mean     1.304489\n",
            "radius_se                  3.088612\n",
            "texture_se                 1.646444\n",
            "perimeter_se               3.443615\n",
            "area_se                    5.447186\n",
            "smoothness_se              2.314450\n",
            "compactness_se             1.902221\n",
            "concavity_se               5.110463\n",
            "concave points_se          1.444678\n",
            "symmetry_se                2.195133\n",
            "fractal_dimension_se       3.923969\n",
            "radius_worst               1.103115\n",
            "texture_worst              0.498321\n",
            "perimeter_worst            1.128164\n",
            "area_worst                 1.859373\n",
            "smoothness_worst           0.415426\n",
            "compactness_worst          1.473555\n",
            "concavity_worst            1.150237\n",
            "concave points_worst       0.492616\n",
            "symmetry_worst             1.433928\n",
            "fractal_dimension_worst    1.662579\n",
            "dtype: float64\n"
          ]
        }
      ]
    },
    {
      "cell_type": "markdown",
      "source": [
        "We are using Log Transformation as our data is highly skewed and hence we want to make it appear more normally distributed"
      ],
      "metadata": {
        "id": "xFXrm9jdh_YR"
      }
    },
    {
      "cell_type": "code",
      "source": [
        "import numpy as np\n",
        "\n",
        "log_transformed_data = df.copy()\n",
        "log_features = ['area_mean', 'compactness_mean', 'concavity_mean', 'radius_se', 'area_se']\n",
        "for feature in log_features:\n",
        "    log_transformed_data[feature] = np.log1p(log_transformed_data[feature])\n"
      ],
      "metadata": {
        "id": "r0H1m2SmiD96"
      },
      "execution_count": null,
      "outputs": []
    },
    {
      "cell_type": "code",
      "source": [
        "transformed_skewness = log_transformed_data[numerical_cols].skew()\n",
        "print(\"Skewness after transformation:\")\n",
        "print(transformed_skewness)"
      ],
      "metadata": {
        "colab": {
          "base_uri": "https://localhost:8080/"
        },
        "id": "9muFwiuMiImI",
        "outputId": "c20921f4-4d78-49fa-bf60-892c42ae94f0"
      },
      "execution_count": null,
      "outputs": [
        {
          "output_type": "stream",
          "name": "stdout",
          "text": [
            "Skewness after transformation:\n",
            "id                         6.473752\n",
            "radius_mean                0.942380\n",
            "texture_mean               0.650450\n",
            "perimeter_mean             0.990650\n",
            "area_mean                  0.287328\n",
            "smoothness_mean            0.456324\n",
            "compactness_mean           1.043195\n",
            "concavity_mean             1.206982\n",
            "concave points_mean        1.171180\n",
            "symmetry_mean              0.725609\n",
            "fractal_dimension_mean     1.304489\n",
            "radius_se                  1.713417\n",
            "texture_se                 1.646444\n",
            "perimeter_se               3.443615\n",
            "area_se                    0.847298\n",
            "smoothness_se              2.314450\n",
            "compactness_se             1.902221\n",
            "concavity_se               5.110463\n",
            "concave points_se          1.444678\n",
            "symmetry_se                2.195133\n",
            "fractal_dimension_se       3.923969\n",
            "radius_worst               1.103115\n",
            "texture_worst              0.498321\n",
            "perimeter_worst            1.128164\n",
            "area_worst                 1.859373\n",
            "smoothness_worst           0.415426\n",
            "compactness_worst          1.473555\n",
            "concavity_worst            1.150237\n",
            "concave points_worst       0.492616\n",
            "symmetry_worst             1.433928\n",
            "fractal_dimension_worst    1.662579\n",
            "dtype: float64\n"
          ]
        }
      ]
    },
    {
      "cell_type": "markdown",
      "source": [
        "Now we are applying Standard scalar to get mean of 0 and std deviation of 1"
      ],
      "metadata": {
        "id": "KtLBvbnViMdV"
      }
    },
    {
      "cell_type": "code",
      "source": [
        "from sklearn.preprocessing import StandardScaler\n",
        "\n",
        "scaler = StandardScaler()\n",
        "data_scaled = df.copy()\n",
        "data_scaled[numerical_cols] = scaler.fit_transform(df[numerical_cols])"
      ],
      "metadata": {
        "id": "-hS3qZIXiRif"
      },
      "execution_count": null,
      "outputs": []
    },
    {
      "cell_type": "markdown",
      "source": [
        "Encoding of Categorical Data, so as to convert categorical into numerical values"
      ],
      "metadata": {
        "id": "DVvxPIIziXai"
      }
    },
    {
      "cell_type": "code",
      "source": [
        "from sklearn.preprocessing import LabelEncoder\n",
        "\n",
        "label_encoder = LabelEncoder()\n",
        "data_scaled['diagnosis'] = label_encoder.fit_transform(data_scaled['diagnosis'])\n"
      ],
      "metadata": {
        "id": "3tctZdWNiU_r"
      },
      "execution_count": null,
      "outputs": []
    },
    {
      "cell_type": "markdown",
      "source": [
        "Feature so as to give only relevant input to the model"
      ],
      "metadata": {
        "id": "daHThlvgif36"
      }
    },
    {
      "cell_type": "code",
      "source": [
        "X = df.drop(columns=[\"id\", \"diagnosis\"])\n",
        "y = df[\"diagnosis\"]"
      ],
      "metadata": {
        "id": "qLV6DKErihU1"
      },
      "execution_count": null,
      "outputs": []
    },
    {
      "cell_type": "markdown",
      "source": [
        "calculating the variance of each feature in the data. If the variance of any feature is higher than the threshold value, it will be kept or otherwise it will be removed i.e using the concept of variance threshold"
      ],
      "metadata": {
        "id": "c0DoFQFiilgm"
      }
    },
    {
      "cell_type": "code",
      "source": [
        "\n",
        "feature_variance = X.var()\n",
        "\n",
        "print(\"Variance of each feature:\")\n",
        "print(feature_variance)\n"
      ],
      "metadata": {
        "colab": {
          "base_uri": "https://localhost:8080/"
        },
        "id": "LaP5aDfDimk1",
        "outputId": "a8f292c5-65cb-4adb-d2f6-23d3b1abcff7"
      },
      "execution_count": null,
      "outputs": [
        {
          "output_type": "stream",
          "name": "stdout",
          "text": [
            "Variance of each feature:\n",
            "radius_mean                    12.418920\n",
            "texture_mean                   18.498909\n",
            "perimeter_mean                590.440480\n",
            "area_mean                  123843.554318\n",
            "smoothness_mean                 0.000198\n",
            "compactness_mean                0.002789\n",
            "concavity_mean                  0.006355\n",
            "concave points_mean             0.001506\n",
            "symmetry_mean                   0.000752\n",
            "fractal_dimension_mean          0.000050\n",
            "radius_se                       0.076902\n",
            "texture_se                      0.304316\n",
            "perimeter_se                    4.087896\n",
            "area_se                      2069.431583\n",
            "smoothness_se                   0.000009\n",
            "compactness_se                  0.000321\n",
            "concavity_se                    0.000911\n",
            "concave points_se               0.000038\n",
            "symmetry_se                     0.000068\n",
            "fractal_dimension_se            0.000007\n",
            "radius_worst                   23.360224\n",
            "texture_worst                  37.776483\n",
            "perimeter_worst              1129.130847\n",
            "area_worst                 324167.385102\n",
            "smoothness_worst                0.000521\n",
            "compactness_worst               0.024755\n",
            "concavity_worst                 0.043524\n",
            "concave points_worst            0.004321\n",
            "symmetry_worst                  0.003828\n",
            "fractal_dimension_worst         0.000326\n",
            "dtype: float64\n"
          ]
        }
      ]
    },
    {
      "cell_type": "code",
      "source": [
        "from sklearn.feature_selection import VarianceThreshold\n",
        "\n",
        "\n",
        "threshold = 5\n",
        "variance_filter = VarianceThreshold(threshold=threshold)\n",
        "X_variance_filtered = variance_filter.fit_transform(X)\n",
        "\n",
        "selected_features_variance = X.columns[variance_filter.get_support()]\n",
        "print(\"Features selected after Variance Threshold:\")\n",
        "print(selected_features_variance)\n"
      ],
      "metadata": {
        "colab": {
          "base_uri": "https://localhost:8080/"
        },
        "id": "duMKkfgriwpl",
        "outputId": "b1391233-98fc-4c7a-a4fa-79ad6ba28000"
      },
      "execution_count": null,
      "outputs": [
        {
          "output_type": "stream",
          "name": "stdout",
          "text": [
            "Features selected after Variance Threshold:\n",
            "Index(['radius_mean', 'texture_mean', 'perimeter_mean', 'area_mean', 'area_se',\n",
            "       'radius_worst', 'texture_worst', 'perimeter_worst', 'area_worst'],\n",
            "      dtype='object')\n"
          ]
        }
      ]
    },
    {
      "cell_type": "markdown",
      "source": [
        "using the SeleckKbest technique to select the k best features"
      ],
      "metadata": {
        "id": "etMNPis7jCeH"
      }
    },
    {
      "cell_type": "code",
      "source": [
        "from sklearn.feature_selection import SelectKBest, f_classif\n",
        "\n",
        "k_best_selector = SelectKBest(score_func=f_classif, k=5)\n",
        "X_k_best = k_best_selector.fit_transform(X, y)\n",
        "selected_features_k_best = X.columns[k_best_selector.get_support()]\n",
        "print(\"Top 5 features selected using SelectKBest:\")\n",
        "print(selected_features_k_best)\n"
      ],
      "metadata": {
        "colab": {
          "base_uri": "https://localhost:8080/"
        },
        "id": "sUUqcBSGi1E-",
        "outputId": "520bec23-04ba-49f2-ddf4-a18107bb70a3"
      },
      "execution_count": null,
      "outputs": [
        {
          "output_type": "stream",
          "name": "stdout",
          "text": [
            "Top 5 features selected using SelectKBest:\n",
            "Index(['perimeter_mean', 'concave points_mean', 'radius_worst',\n",
            "       'perimeter_worst', 'concave points_worst'],\n",
            "      dtype='object')\n"
          ]
        }
      ]
    },
    {
      "cell_type": "markdown",
      "source": [
        "SelectPercentile to select a certain percentage of feature based on the chossen statistical function such as chi2, anova etc, here f_classif i.e. annova F-values is used"
      ],
      "metadata": {
        "id": "M09MCsQXjICf"
      }
    },
    {
      "cell_type": "code",
      "source": [
        "from sklearn.feature_selection import SelectPercentile\n",
        "\n",
        "percentile_selector = SelectPercentile(score_func=f_classif, percentile=20)\n",
        "X_percentile = percentile_selector.fit_transform(X, y)\n",
        "selected_features_percentile = X.columns[percentile_selector.get_support()]\n",
        "print(\"Features selected using SelectPercentile (Top 20%):\")\n",
        "print(selected_features_percentile)\n"
      ],
      "metadata": {
        "colab": {
          "base_uri": "https://localhost:8080/"
        },
        "id": "6dC1u1dAjPT5",
        "outputId": "6f0e4aeb-5880-44bc-aaac-1a2e42d157a0"
      },
      "execution_count": null,
      "outputs": [
        {
          "output_type": "stream",
          "name": "stdout",
          "text": [
            "Features selected using SelectPercentile (Top 20%):\n",
            "Index(['perimeter_mean', 'concave points_mean', 'radius_worst',\n",
            "       'perimeter_worst', 'area_worst', 'concave points_worst'],\n",
            "      dtype='object')\n"
          ]
        }
      ]
    },
    {
      "cell_type": "markdown",
      "source": [
        "here PCA i.e Principal Component Analysis is used so as to reduce higher dimension into lower dimensions with losing the important information by identfying the pattern and relations in the data and again we have reduced the features to 20 by PCA and we have shown the correlation analysis using the heatmap"
      ],
      "metadata": {
        "id": "gddDZ0LpjUNM"
      }
    },
    {
      "cell_type": "code",
      "source": [
        "from sklearn.decomposition import PCA\n",
        "import seaborn as sns\n",
        "import matplotlib.pyplot as plt\n",
        "\n",
        "\n",
        "pca = PCA(n_components=20)\n",
        "X_pca = pca.fit_transform(X)\n",
        "\n",
        "explained_variance_ratio = pca.explained_variance_ratio_\n",
        "cumulative_variance = explained_variance_ratio.cumsum()\n",
        "\n",
        "print(\"Explained variance ratio for each component:\")\n",
        "print(explained_variance_ratio)\n",
        "\n",
        "print(\"\\nCumulative variance explained by components:\")\n",
        "print(cumulative_variance)\n",
        "\n",
        "print(\"\\nShape of the dataset after PCA:\")\n",
        "print(X_pca.shape)\n",
        "\n",
        "original_corr = pd.DataFrame(X).corr()\n",
        "pca_corr = pd.DataFrame(X_pca).corr()\n",
        "\n",
        "\n",
        "plt.figure(figsize=(12, 6))\n",
        "\n",
        "\n",
        "plt.subplot(1, 2, 1)\n",
        "sns.heatmap(original_corr, annot=False, cmap='viridis', cbar=True, square=True)\n",
        "plt.title(\"Correlation Heatmap (Original Dataset)\")\n",
        "\n",
        "\n",
        "plt.subplot(1, 2, 2)\n",
        "sns.heatmap(pca_corr, annot=False, cmap='viridis', cbar=True, square=True)\n",
        "plt.title(\"Correlation Heatmap (PCA-Transformed Dataset)\")\n",
        "\n",
        "plt.tight_layout()\n",
        "plt.show()\n"
      ],
      "metadata": {
        "colab": {
          "base_uri": "https://localhost:8080/",
          "height": 891
        },
        "id": "WcRnN-SsjU8d",
        "outputId": "e3a017ca-af7a-4811-a3d8-a3c77933769b"
      },
      "execution_count": null,
      "outputs": [
        {
          "output_type": "stream",
          "name": "stdout",
          "text": [
            "Explained variance ratio for each component:\n",
            "[9.82044672e-01 1.61764899e-02 1.55751075e-03 1.20931964e-04\n",
            " 8.82724536e-05 6.64883951e-06 4.01713682e-06 8.22017197e-07\n",
            " 3.44135279e-07 1.86018721e-07 6.99473206e-08 1.65908880e-08\n",
            " 6.99641650e-09 4.78318306e-09 2.93549214e-09 1.41684927e-09\n",
            " 8.29577732e-10 5.20405883e-10 4.08463983e-10 3.63313379e-10]\n",
            "\n",
            "Cumulative variance explained by components:\n",
            "[0.98204467 0.99822116 0.99977867 0.9998996  0.99998788 0.99999453\n",
            " 0.99999854 0.99999936 0.99999971 0.99999989 0.99999996 0.99999998\n",
            " 0.99999999 0.99999999 1.         1.         1.         1.\n",
            " 1.         1.        ]\n",
            "\n",
            "Shape of the dataset after PCA:\n",
            "(569, 20)\n"
          ]
        },
        {
          "output_type": "display_data",
          "data": {
            "text/plain": [
              "<Figure size 1200x600 with 4 Axes>"
            ],
            "image/png": "[encoded data removed]"
          },
          "metadata": {}
        }
      ]
    }
  ]
}